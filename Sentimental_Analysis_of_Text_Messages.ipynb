{
  "nbformat": 4,
  "nbformat_minor": 0,
  "metadata": {
    "colab": {
      "name": "Sentimental Analysis of Text Messages.ipynb",
      "provenance": [],
      "private_outputs": true,
      "collapsed_sections": [],
      "include_colab_link": true
    },
    "kernelspec": {
      "name": "python3",
      "display_name": "Python 3"
    }
  },
  "cells": [
    {
      "cell_type": "markdown",
      "metadata": {
        "id": "view-in-github",
        "colab_type": "text"
      },
      "source": [
        "<a href=\"https://colab.research.google.com/github/amarkotha00/Natural-Language-Processing/blob/main/Sentimental_Analysis_of_Text_Messages.ipynb\" target=\"_parent\"><img src=\"https://colab.research.google.com/assets/colab-badge.svg\" alt=\"Open In Colab\"/></a>"
      ]
    },
    {
      "cell_type": "code",
      "metadata": {
        "id": "0jD-G4BsD8T6"
      },
      "source": [
        "!pip install -q emoji"
      ],
      "execution_count": null,
      "outputs": []
    },
    {
      "cell_type": "code",
      "metadata": {
        "id": "ltWkPANio7Fu"
      },
      "source": [
        "import numpy as np\n",
        "import tensorflow as tf\n",
        "import pickle\n",
        "import re\n",
        "from chatterbot import ChatBot\n",
        "from chatterbot.trainers import ListTrainer\n",
        "import os\n",
        "import emoji as e\n",
        "\n",
        "def getemotion(message):\n",
        "  sentence = [message]\n",
        "  classNames = np.load(\"/content/sample_data/class_names.npy\")\n",
        "  with open('/content/sample_data/tokenizer.pickle', 'rb') as handle:\n",
        "          Tokenizer = pickle.load(handle)\n",
        "  model = tf.keras.models.load_model(\"/content/sample_data/model_final.model\")\n",
        "  MAX_LENGTH = maxlen = 100\n",
        "  TAG_RE = re.compile(r'<[^>]+>')\n",
        "  sentence_processed = Tokenizer.texts_to_sequences(sentence)\n",
        "  sentence_processed = np.array(sentence_processed)\n",
        "  sentence_padded = tf.keras.preprocessing.sequence.pad_sequences(sentence_processed, padding='post', maxlen=MAX_LENGTH)\n",
        "  result = model.predict(sentence_padded) \n",
        "  emotion=classNames[np.argmax(result)]\n",
        "  if(emotion=='joy'):\n",
        "    print(\"Chatbot: You Seemed to be Happy \"+e.emojize(':grinning_face_with_big_eyes:'))\n",
        "    print(\"\"\"Here are some suggestion of songs to make your mood more Happy\n",
        "https://open.spotify.com/playlist/37i9dQZF1DWSRc3WJklgBs\n",
        "https://open.spotify.com/playlist/37i9dQZF1DX3rxVfibe1L0\n",
        "https://open.spotify.com/playlist/37i9dQZF1DX9XIFQuFvzM4\"\"\")\n",
        "  elif(emotion=='sadness'):\n",
        "    print(\"Chatbot: You Seemed to be Sad \"+e.emojize(':pensive_face:'))\n",
        "    print(\"\"\"Here are some suggestion of songs to make your mood happy \n",
        "https://open.spotify.com/playlist/37i9dQZF1DX7qK8ma5wgG1\n",
        "https://open.spotify.com/playlist/0N2pTjZX98Piir6i1VUTzZ\n",
        "https://open.spotify.com/playlist/37i9dQZF1DWT0qByOJYmmJ\"\"\")\n",
        "  elif(emotion=='anger' or emotion == 'disgust'):\n",
        "    print(\"Chatbot: You Seemed to be Angry \"+e.emojize(':pouting_face:'))\n",
        "    print(\"\"\"Here are some suggestion of songs to make you calm\n",
        "https://open.spotify.com/playlist/37i9dQZF1DX4WYpdgoIcn6\n",
        "https://open.spotify.com/playlist/37i9dQZF1DXaImRpG7HXqp\n",
        "https://open.spotify.com/playlist/37i9dQZF1DX5bjCEbRU4SJ\"\"\")\n",
        "  elif(emotion=='fear'):\n",
        "    print(\"Chatbot: You Seemed to be Feared \"+e.emojize(':fearful_face:'))\n",
        "    print(\"\"\"Here are some suggestion of songs to make you feraless\n",
        "https://open.spotify.com/playlist/7jpoRAUicZ0yOmiC5FOyzY\n",
        "https://open.spotify.com/playlist/4cllEPvFdoX6NIVWPKai9I\"\"\")\n",
        "  elif(emotion=='guilt'):\n",
        "    print(\"Chatbot: You Seemed to be Guilty \"+e.emojize(':neutral_face:'))\n",
        "    print(\"\"\"Here are some suggestion of songs to make you Happy\n",
        "https://open.spotify.com/playlist/37i9dQZF1DX4pUKG1kS0Ac\n",
        "https://open.spotify.com/playlist/07eozVZjxXCzyJVJ9ilU8l\n",
        "https://open.spotify.com/playlist/6WVDwwqUt7YbmhYeAN6jua\"\"\")\n",
        "  elif(emotion=='shame'):\n",
        "    print(\"Chatbot: You Seemed to be Sad \"+e.emojize(':worried_face:'))\n",
        "    print(\"\"\"Here are some suggestion of songs to make you Happy\n",
        "https://open.spotify.com/playlist/04qS57pisEamNx9dnIp8dm\n",
        "https://open.spotify.com/playlist/1JF3Mix9PqzxdCJeB1hpy3\"\"\")\n",
        "\n",
        "  \n",
        "\n",
        "def preprocess_text(sen):\n",
        "      sentence = remove_tags(sen)\n",
        "      sentence = re.sub('[^a-zA-Z]', ' ', sentence)\n",
        "      sentence = re.sub(r\"\\s+[a-zA-Z]\\s+\", ' ', sentence)\n",
        "      sentence = re.sub(r'\\s+', ' ', sentence)\n",
        "      return sentence\n",
        "def remove_tags(text):\n",
        "      return TAG_RE.sub('', text)\n",
        "\n",
        "\n",
        "bot=ChatBot('Akshay')\n",
        "trainer=ListTrainer(bot)\n",
        "trainer.train('/content/conversations.yml')\n",
        "\n",
        "while True:\n",
        "    message=input('Akshay: ')\n",
        "    if message.strip()!='Bye':\n",
        "        getemotion(message)\n",
        "        break\n",
        "\n"
      ],
      "execution_count": null,
      "outputs": []
    }
  ]
}